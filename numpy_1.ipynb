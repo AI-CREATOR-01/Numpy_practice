{
 "cells": [
  {
   "cell_type": "code",
   "execution_count": 8,
   "id": "feef1f93-869c-40d7-aa89-67a0c5080e9f",
   "metadata": {},
   "outputs": [],
   "source": [
    "import numpy as np\n",
    "\n",
    "\n",
    "# PHLI BAAT TO YEH HAI KI HM JIN BHI DATA KO ARRAY ME CONVERT KAR RHE HOTE HAI WAH YA TO\n",
    "# LIST HONGE YA PHIR TUPPLE\n",
    "# MTLB HM NP.ARRAY() ME LIST TYPE DATA YA PHIR TUPPLE TYPE DATA PASS KR RHE HOTE HAI"
   ]
  },
  {
   "cell_type": "code",
   "execution_count": 9,
   "id": "879f2349-0981-45b8-b3e7-004605acc31e",
   "metadata": {},
   "outputs": [],
   "source": [
    "list = [1,2,3,4,5]"
   ]
  },
  {
   "cell_type": "code",
   "execution_count": 10,
   "id": "43d2a85c-9ea7-482d-9afe-a5c337bd2b9c",
   "metadata": {},
   "outputs": [],
   "source": [
    "#                     HOW TO CONVERT A DATA INTO AN ARRAY SEE the syntax below\n",
    "\n",
    "np.array(list)\n",
    "# np.array() or \n",
    "# np.asarray() or \n",
    "# np.asanyarray() all are same syntax\n",
    "\n",
    "# ab chaho to isko ek reference me store kra skte hai for further uses\n",
    "\n",
    "arr = np.array(list)\n",
    "\n",
    "# how to know that array 1D hai ya phir 2D 3D to know this see the array data if data is under,\n",
    "# single square bracket then it is a 1D array so we can say that\n",
    "# one [] bracket --->> 1D array\n",
    "# two [] bracket --->> 2D array\n",
    "# three [] bracket --->> 3D array\n",
    "\n",
    "#                  NOTE so basically a numpy create an array\n"
   ]
  },
  {
   "cell_type": "code",
   "execution_count": 11,
   "id": "55ecd195-22fc-4f7e-9991-2179cdd86095",
   "metadata": {},
   "outputs": [
    {
     "data": {
      "text/plain": [
       "array([1, 2, 3, 4, 5])"
      ]
     },
     "execution_count": 11,
     "metadata": {},
     "output_type": "execute_result"
    }
   ],
   "source": [
    "arr"
   ]
  },
  {
   "cell_type": "code",
   "execution_count": 12,
   "id": "4bc2d05f-52da-48d5-8f8e-13a74a8efd6a",
   "metadata": {},
   "outputs": [],
   "source": [
    "#                  NOW HOW TO GET DATA AS 1D 2D AND 3D IN ARRAY SEE\n",
    "\n",
    "# for 1D \n",
    "# np.array(\"pass the data here\")\n",
    "\n",
    "# for 2D \n",
    "# np.array(['pass the data here'])\n",
    "\n",
    "# for 3D \n",
    "# np.array([['pass the data here']])"
   ]
  },
  {
   "cell_type": "code",
   "execution_count": 13,
   "id": "2fe69dee-a223-474b-878a-6a557a40d323",
   "metadata": {},
   "outputs": [
    {
     "data": {
      "text/plain": [
       "matrix([[1, 2, 3, 4, 5]])"
      ]
     },
     "execution_count": 13,
     "metadata": {},
     "output_type": "execute_result"
    }
   ],
   "source": [
    "#                    NOTE ----->>>\n",
    "\n",
    "# matrix ek 2D array hi hota hai so matrix is a subset of an array so we can convert our data,\n",
    "# into matrix jo ki ek 2D array hi hoga see\n",
    "\n",
    "mat = np.matrix(list)\n",
    "mat\n"
   ]
  },
  {
   "cell_type": "code",
   "execution_count": 14,
   "id": "fefc338b-95d9-4fb2-8c30-04d61f0590d4",
   "metadata": {},
   "outputs": [
    {
     "data": {
      "text/plain": [
       "numpy.matrix"
      ]
     },
     "execution_count": 14,
     "metadata": {},
     "output_type": "execute_result"
    }
   ],
   "source": [
    "type(mat)"
   ]
  },
  {
   "cell_type": "code",
   "execution_count": 15,
   "id": "e623a49c-f651-46c2-ab02-982373c3da47",
   "metadata": {},
   "outputs": [
    {
     "name": "stdout",
     "output_type": "stream",
     "text": [
      "[1 2 3 4 5]\n",
      "[[1 2 3]\n",
      " [4 5 6]\n",
      " [7 8 9]]\n",
      "[[[1 2]\n",
      "  [3 4]]\n",
      "\n",
      " [[5 6]\n",
      "  [7 8]]]\n"
     ]
    }
   ],
   "source": [
    "#                    HOW TO CREATE AN ARRAY\n",
    "import numpy as np\n",
    "\n",
    "# Create a 1D array\n",
    "arr1d = np.array([1, 2, 3, 4, 5])\n",
    "print(arr1d)\n",
    "\n",
    "# Create a 2D array\n",
    "arr2d = np.array([[1, 2, 3], [4, 5, 6], [7, 8, 9]])\n",
    "\n",
    "print(arr2d)\n",
    "\n",
    "# Create a 3D array\n",
    "arr3d = np.array([[[1, 2], [3, 4]], [[5, 6], [7, 8]]])\n",
    "\n",
    "print(arr3d)\n"
   ]
  },
  {
   "cell_type": "code",
   "execution_count": 16,
   "id": "df6b092c-b674-46e7-80e1-928c06389c11",
   "metadata": {},
   "outputs": [],
   "source": [
    "#                 HOT TO ACCESS ELEMENTS FORM ANY ARRAY SEEE BELOW COLUMNS"
   ]
  },
  {
   "cell_type": "code",
   "execution_count": 17,
   "id": "bd91176b-e06c-4f85-84f5-11b66e6639fc",
   "metadata": {},
   "outputs": [
    {
     "data": {
      "text/plain": [
       "array([1, 2, 3, 4, 5])"
      ]
     },
     "execution_count": 17,
     "metadata": {},
     "output_type": "execute_result"
    }
   ],
   "source": [
    "arr1d"
   ]
  },
  {
   "cell_type": "code",
   "execution_count": 18,
   "id": "9077eef1-c095-4cc1-80ac-b053c03c9a58",
   "metadata": {},
   "outputs": [
    {
     "data": {
      "text/plain": [
       "1"
      ]
     },
     "execution_count": 18,
     "metadata": {},
     "output_type": "execute_result"
    }
   ],
   "source": [
    "arr1d[0]"
   ]
  },
  {
   "cell_type": "code",
   "execution_count": 19,
   "id": "2af19484-fad2-49f2-b628-d6e2b7252cd8",
   "metadata": {},
   "outputs": [
    {
     "ename": "IndexError",
     "evalue": "invalid index to scalar variable.",
     "output_type": "error",
     "traceback": [
      "\u001b[0;31m---------------------------------------------------------------------------\u001b[0m",
      "\u001b[0;31mIndexError\u001b[0m                                Traceback (most recent call last)",
      "Cell \u001b[0;32mIn[19], line 1\u001b[0m\n\u001b[0;32m----> 1\u001b[0m \u001b[43marr\u001b[49m\u001b[43m[\u001b[49m\u001b[38;5;241;43m1\u001b[39;49m\u001b[43m]\u001b[49m\u001b[43m[\u001b[49m\u001b[38;5;241;43m2\u001b[39;49m\u001b[43m]\u001b[49m\n",
      "\u001b[0;31mIndexError\u001b[0m: invalid index to scalar variable."
     ]
    }
   ],
   "source": [
    "arr[1][2]"
   ]
  },
  {
   "cell_type": "code",
   "execution_count": 20,
   "id": "8e371732-78e8-4395-a155-c67bfce5e3fe",
   "metadata": {},
   "outputs": [
    {
     "data": {
      "text/plain": [
       "array([[1, 2, 3],\n",
       "       [4, 5, 6],\n",
       "       [7, 8, 9]])"
      ]
     },
     "execution_count": 20,
     "metadata": {},
     "output_type": "execute_result"
    }
   ],
   "source": [
    "arr2d"
   ]
  },
  {
   "cell_type": "code",
   "execution_count": 21,
   "id": "e60f0d7e-c89b-4cbf-8ba7-a4927a89ab95",
   "metadata": {},
   "outputs": [
    {
     "data": {
      "text/plain": [
       "6"
      ]
     },
     "execution_count": 21,
     "metadata": {},
     "output_type": "execute_result"
    }
   ],
   "source": [
    "arr2d[1][2]"
   ]
  },
  {
   "cell_type": "code",
   "execution_count": 22,
   "id": "72f5a69e-3b05-4159-a229-ef90e14b3f74",
   "metadata": {},
   "outputs": [
    {
     "data": {
      "text/plain": [
       "array([[[1, 2],\n",
       "        [3, 4]],\n",
       "\n",
       "       [[5, 6],\n",
       "        [7, 8]]])"
      ]
     },
     "execution_count": 22,
     "metadata": {},
     "output_type": "execute_result"
    }
   ],
   "source": [
    "arr3d"
   ]
  },
  {
   "cell_type": "code",
   "execution_count": 23,
   "id": "9eb1122b-c63f-49b7-944b-e93f6366155f",
   "metadata": {},
   "outputs": [
    {
     "data": {
      "text/plain": [
       "4"
      ]
     },
     "execution_count": 23,
     "metadata": {},
     "output_type": "execute_result"
    }
   ],
   "source": [
    "arr3d[0][1][1]"
   ]
  },
  {
   "cell_type": "code",
   "execution_count": 24,
   "id": "63739023-81fe-4092-9619-e2c493fe0720",
   "metadata": {},
   "outputs": [],
   "source": [
    "#            representation of 1D 2D and 3D data jisko hm array bhi bol rhe hote hai see"
   ]
  },
  {
   "cell_type": "code",
   "execution_count": 25,
   "id": "65e771f0-21f9-41a8-8441-2cb9dcf2548c",
   "metadata": {},
   "outputs": [],
   "source": [
    "# [1,2,3,4,5] --->> 1D\n",
    "\n",
    "# [[1,2,3,4,5],\n",
    "#  [1,2,3,4,5],  OR [[1,2,3,4],[1,2,3,4],[1,2,3,4]] ------->>>> 2D FOR 3D JUST IMAGINE\n",
    "#  [1,2,3,4,5]]"
   ]
  },
  {
   "cell_type": "code",
   "execution_count": 26,
   "id": "fea163be-76dd-4c8c-b48b-b29baef22710",
   "metadata": {},
   "outputs": [],
   "source": [
    "\n",
    "\n",
    "\n",
    "#                   SOME IMPORTANT FUNCTION IN NUMNPY SEE BELOW COLUMNS\n",
    "\n",
    "\n"
   ]
  },
  {
   "cell_type": "code",
   "execution_count": 27,
   "id": "6e4d8567-094a-457e-9292-0d4ddacaed78",
   "metadata": {},
   "outputs": [
    {
     "name": "stdout",
     "output_type": "stream",
     "text": [
      "[1 2 3 4 5]\n"
     ]
    }
   ],
   "source": [
    "#1.np.array() \n",
    "# Creates a NumPy array from a list or tuple.\n",
    "\n",
    "\n",
    "\n",
    "import numpy as np\n",
    "\n",
    "arr = np.array([1, 2, 3, 4, 5])\n",
    "print(arr)\n"
   ]
  },
  {
   "cell_type": "code",
   "execution_count": 28,
   "id": "e2ca011b-b8e2-46fd-9b62-5ca9c005d6dd",
   "metadata": {},
   "outputs": [
    {
     "name": "stdout",
     "output_type": "stream",
     "text": [
      "[0 2 4 6 8]\n"
     ]
    }
   ],
   "source": [
    "# np.arange() \n",
    "\n",
    "# Creates a NumPy array with evenly spaced values within a given interval\n",
    "import numpy as np\n",
    "\n",
    "arr = np.arange(0, 10, 2)\n",
    "print(arr)\n"
   ]
  },
  {
   "cell_type": "code",
   "execution_count": 29,
   "id": "c681b03e-d6ae-4e23-ae2d-112d163f0353",
   "metadata": {},
   "outputs": [
    {
     "name": "stdout",
     "output_type": "stream",
     "text": [
      "[[0. 0. 0.]\n",
      " [0. 0. 0.]]\n"
     ]
    }
   ],
   "source": [
    "# np.zeros() - Creates a NumPy array filled with zeros.\n",
    "\n",
    "arr = np.zeros((2, 3))\n",
    "print(arr)"
   ]
  },
  {
   "cell_type": "code",
   "execution_count": 30,
   "id": "6670e6ac-899d-4996-b8db-4a652e2f805a",
   "metadata": {},
   "outputs": [
    {
     "name": "stdout",
     "output_type": "stream",
     "text": [
      "[[1. 1. 1.]\n",
      " [1. 1. 1.]]\n"
     ]
    }
   ],
   "source": [
    "# np.ones() - Creates a NumPy array filled with ones.\n",
    "\n",
    "arr = np.ones((2, 3))\n",
    "print(arr)"
   ]
  },
  {
   "cell_type": "code",
   "execution_count": 34,
   "id": "b8af9c85-99fb-44a7-a4ac-207802411d58",
   "metadata": {},
   "outputs": [
    {
     "data": {
      "text/plain": [
       "array([1., 1.])"
      ]
     },
     "execution_count": 34,
     "metadata": {},
     "output_type": "execute_result"
    }
   ],
   "source": [
    "np.ones(2)"
   ]
  },
  {
   "cell_type": "code",
   "execution_count": 36,
   "id": "7f4ac691-3fbb-4aaa-b449-9f5bb1ceadc8",
   "metadata": {},
   "outputs": [
    {
     "data": {
      "text/plain": [
       "array([[[1., 1., 1., 1.],\n",
       "        [1., 1., 1., 1.],\n",
       "        [1., 1., 1., 1.]],\n",
       "\n",
       "       [[1., 1., 1., 1.],\n",
       "        [1., 1., 1., 1.],\n",
       "        [1., 1., 1., 1.]]])"
      ]
     },
     "execution_count": 36,
     "metadata": {},
     "output_type": "execute_result"
    }
   ],
   "source": [
    "np.ones((2,3,4))"
   ]
  },
  {
   "cell_type": "code",
   "execution_count": 31,
   "id": "98f7586a-1040-4c2e-a05b-758d35279763",
   "metadata": {},
   "outputs": [
    {
     "name": "stdout",
     "output_type": "stream",
     "text": [
      "[0.   0.25 0.5  0.75 1.  ]\n"
     ]
    }
   ],
   "source": [
    "# np.linspace() - Creates a NumPy array with evenly spaced values within a given range.\n",
    "\n",
    "arr = np.linspace(0, 1, 5)\n",
    "print(arr)"
   ]
  },
  {
   "cell_type": "code",
   "execution_count": 32,
   "id": "4d198a0e-fe00-4da3-9866-fde43b3577b8",
   "metadata": {},
   "outputs": [
    {
     "name": "stdout",
     "output_type": "stream",
     "text": [
      "[[0.97983347 0.85300793 0.11378571]\n",
      " [0.70511425 0.04135948 0.08746913]]\n"
     ]
    }
   ],
   "source": [
    "# np.random.rand() - Creates a NumPy array with random values between 0 and 1.\n",
    "\n",
    "arr = np.random.rand(2, 3)\n",
    "print(arr)"
   ]
  },
  {
   "cell_type": "code",
   "execution_count": 33,
   "id": "8e39f95f-03cc-437d-ac38-28b06d79c917",
   "metadata": {},
   "outputs": [
    {
     "name": "stdout",
     "output_type": "stream",
     "text": [
      "[0.85678138 0.31830928]\n"
     ]
    }
   ],
   "source": [
    "# np.random.rand() - Creates a NumPy array with random values between 0 and 1.\n",
    "\n",
    "\n",
    "arr = np.random.rand(2)\n",
    "print(arr)"
   ]
  },
  {
   "cell_type": "code",
   "execution_count": 39,
   "id": "875d689c-ff53-4f36-962d-021e05977a9f",
   "metadata": {},
   "outputs": [
    {
     "data": {
      "text/plain": [
       "array([[7, 1, 8, 4],\n",
       "       [8, 2, 7, 1],\n",
       "       [1, 5, 8, 1]])"
      ]
     },
     "execution_count": 39,
     "metadata": {},
     "output_type": "execute_result"
    }
   ],
   "source": [
    "# mtlb 1 se 10 ke bich 3 by 4 ka ek array banana hai\n",
    "\n",
    "arr5 = np.random.randint(1,10,(3,4))\n",
    "arr5"
   ]
  },
  {
   "cell_type": "code",
   "execution_count": 40,
   "id": "865b421d-3bd9-4d99-8f31-982f6788e8b3",
   "metadata": {},
   "outputs": [
    {
     "data": {
      "text/html": [
       "<div>\n",
       "<style scoped>\n",
       "    .dataframe tbody tr th:only-of-type {\n",
       "        vertical-align: middle;\n",
       "    }\n",
       "\n",
       "    .dataframe tbody tr th {\n",
       "        vertical-align: top;\n",
       "    }\n",
       "\n",
       "    .dataframe thead th {\n",
       "        text-align: right;\n",
       "    }\n",
       "</style>\n",
       "<table border=\"1\" class=\"dataframe\">\n",
       "  <thead>\n",
       "    <tr style=\"text-align: right;\">\n",
       "      <th></th>\n",
       "      <th>0</th>\n",
       "      <th>1</th>\n",
       "      <th>2</th>\n",
       "      <th>3</th>\n",
       "    </tr>\n",
       "  </thead>\n",
       "  <tbody>\n",
       "    <tr>\n",
       "      <th>0</th>\n",
       "      <td>7</td>\n",
       "      <td>1</td>\n",
       "      <td>8</td>\n",
       "      <td>4</td>\n",
       "    </tr>\n",
       "    <tr>\n",
       "      <th>1</th>\n",
       "      <td>8</td>\n",
       "      <td>2</td>\n",
       "      <td>7</td>\n",
       "      <td>1</td>\n",
       "    </tr>\n",
       "    <tr>\n",
       "      <th>2</th>\n",
       "      <td>1</td>\n",
       "      <td>5</td>\n",
       "      <td>8</td>\n",
       "      <td>1</td>\n",
       "    </tr>\n",
       "  </tbody>\n",
       "</table>\n",
       "</div>"
      ],
      "text/plain": [
       "   0  1  2  3\n",
       "0  7  1  8  4\n",
       "1  8  2  7  1\n",
       "2  1  5  8  1"
      ]
     },
     "execution_count": 40,
     "metadata": {},
     "output_type": "execute_result"
    }
   ],
   "source": [
    "#                       NOTE\n",
    "\n",
    "#  SO BASICALLY HM KISI BHI ARRAY KO DATAFRAME ME BHI CONVERT KR SKTE HAI\n",
    "\n",
    "import pandas as pd\n",
    "\n",
    "arr6 = pd.DataFrame(arr5)\n",
    "arr6"
   ]
  },
  {
   "cell_type": "code",
   "execution_count": null,
   "id": "1637e965-16cd-46ed-bd75-12d7472043c7",
   "metadata": {},
   "outputs": [],
   "source": [
    "#               np.reshape() function\n",
    "\n",
    "\n",
    "# yeh function data ki bina change kiye kisi bhi array ka shape bole row and column \n",
    "# chan ge krdega see below column\n",
    "# but row * column should same in both cases "
   ]
  },
  {
   "cell_type": "code",
   "execution_count": 41,
   "id": "321c138d-eb00-4a8f-be3e-fa0b98fc0636",
   "metadata": {},
   "outputs": [
    {
     "data": {
      "text/plain": [
       "array([[7, 1, 8, 4],\n",
       "       [8, 2, 7, 1],\n",
       "       [1, 5, 8, 1]])"
      ]
     },
     "execution_count": 41,
     "metadata": {},
     "output_type": "execute_result"
    }
   ],
   "source": [
    "arr5"
   ]
  },
  {
   "cell_type": "code",
   "execution_count": 47,
   "id": "cac285bf-251a-4679-b4da-4468239901f8",
   "metadata": {},
   "outputs": [
    {
     "data": {
      "text/plain": [
       "array([[7, 1, 8, 4, 8, 2],\n",
       "       [7, 1, 1, 5, 8, 1]])"
      ]
     },
     "execution_count": 47,
     "metadata": {},
     "output_type": "execute_result"
    }
   ],
   "source": [
    "arr5.reshape(2,6)"
   ]
  },
  {
   "cell_type": "code",
   "execution_count": null,
   "id": "dfb10969-0981-4882-8a44-570b0e82cd5f",
   "metadata": {},
   "outputs": [],
   "source": [
    "\n",
    "\n",
    "#                   <<--------NOTE--------->>\n",
    "\n",
    "# IN CASE OF MATRIX/ARRAY ROW AND COLUMN DONO HI 0 AND 1 SE START HOTE HAI SEE BELOW COLUMN"
   ]
  },
  {
   "cell_type": "code",
   "execution_count": 48,
   "id": "b4005715-855d-4f28-90c9-38e0f3733d24",
   "metadata": {},
   "outputs": [
    {
     "data": {
      "text/plain": [
       "array([[7, 1, 8, 4],\n",
       "       [8, 2, 7, 1],\n",
       "       [1, 5, 8, 1]])"
      ]
     },
     "execution_count": 48,
     "metadata": {},
     "output_type": "execute_result"
    }
   ],
   "source": [
    "arr5"
   ]
  },
  {
   "cell_type": "code",
   "execution_count": 52,
   "id": "7029a5ef-0455-4531-8239-cb50154ef6ea",
   "metadata": {},
   "outputs": [
    {
     "data": {
      "text/plain": [
       "array([[8, 2, 7, 1],\n",
       "       [1, 5, 8, 1]])"
      ]
     },
     "execution_count": 52,
     "metadata": {},
     "output_type": "execute_result"
    }
   ],
   "source": [
    "# mtlb 1 to 2 row tak ka data do\n",
    "arr5[1:3]"
   ]
  },
  {
   "cell_type": "code",
   "execution_count": 54,
   "id": "1bbc1f75-2371-4048-aaf2-44874ff63817",
   "metadata": {},
   "outputs": [
    {
     "data": {
      "text/plain": [
       "array([7, 1, 8, 4])"
      ]
     },
     "execution_count": 54,
     "metadata": {},
     "output_type": "execute_result"
    }
   ],
   "source": [
    "arr5[0]"
   ]
  },
  {
   "cell_type": "code",
   "execution_count": 56,
   "id": "9d8745ef-3b8a-44a4-be8f-f2738ceb45e3",
   "metadata": {},
   "outputs": [
    {
     "data": {
      "text/plain": [
       "array([1, 2, 5])"
      ]
     },
     "execution_count": 56,
     "metadata": {},
     "output_type": "execute_result"
    }
   ],
   "source": [
    "# mtlb 0 se lekr 2 tak ke row ka 1th element lao\n",
    "\n",
    "arr5[0:3,1]"
   ]
  },
  {
   "cell_type": "code",
   "execution_count": 57,
   "id": "3efda077-f361-4ac0-92d9-ff2bbc54900b",
   "metadata": {},
   "outputs": [
    {
     "data": {
      "text/plain": [
       "1"
      ]
     },
     "execution_count": 57,
     "metadata": {},
     "output_type": "execute_result"
    }
   ],
   "source": [
    "arr5[0,1]"
   ]
  },
  {
   "cell_type": "code",
   "execution_count": 59,
   "id": "c8276d7b-89ab-40c0-ac5e-6b5df449874f",
   "metadata": {},
   "outputs": [
    {
     "data": {
      "text/plain": [
       "array([[7, 1, 8, 4],\n",
       "       [8, 2, 7, 1],\n",
       "       [1, 5, 8, 1]])"
      ]
     },
     "execution_count": 59,
     "metadata": {},
     "output_type": "execute_result"
    }
   ],
   "source": [
    "arr5"
   ]
  },
  {
   "cell_type": "code",
   "execution_count": 58,
   "id": "86f1fd2c-6850-45f6-b80e-6d2b5027772b",
   "metadata": {},
   "outputs": [
    {
     "data": {
      "text/plain": [
       "array([[1, 8],\n",
       "       [2, 7],\n",
       "       [5, 8]])"
      ]
     },
     "execution_count": 58,
     "metadata": {},
     "output_type": "execute_result"
    }
   ],
   "source": [
    "arr5[0:3,1:3]"
   ]
  },
  {
   "cell_type": "code",
   "execution_count": 60,
   "id": "6e094fe7-6331-47ec-831a-b1437627ea0b",
   "metadata": {},
   "outputs": [],
   "source": [
    "arr7= np.random.randint(1,20,(4,5))"
   ]
  },
  {
   "cell_type": "code",
   "execution_count": 61,
   "id": "e08d74da-a269-496d-af5f-6095ad3ca630",
   "metadata": {},
   "outputs": [
    {
     "data": {
      "text/plain": [
       "array([[10, 12, 17,  3, 13],\n",
       "       [ 5, 10, 14,  2, 13],\n",
       "       [ 9,  4,  8,  5, 18],\n",
       "       [ 5,  7,  3, 13, 13]])"
      ]
     },
     "execution_count": 61,
     "metadata": {},
     "output_type": "execute_result"
    }
   ],
   "source": [
    "arr7"
   ]
  },
  {
   "cell_type": "code",
   "execution_count": 62,
   "id": "b934387d-6419-4b12-84bc-7448790351fe",
   "metadata": {},
   "outputs": [
    {
     "data": {
      "text/plain": [
       "array([12, 17, 13, 14, 13, 18, 13, 13])"
      ]
     },
     "execution_count": 62,
     "metadata": {},
     "output_type": "execute_result"
    }
   ],
   "source": [
    "arr7[arr7>10]"
   ]
  },
  {
   "cell_type": "code",
   "execution_count": null,
   "id": "68c2eb72-55a5-4329-8c2d-5315e9fddbb0",
   "metadata": {},
   "outputs": [],
   "source": [
    "# AGAR HM 1D array ki baat kre to ek 1D array ek single row ke form hoga ya phir \n",
    "# ek single column ke form me hoga"
   ]
  },
  {
   "cell_type": "code",
   "execution_count": 66,
   "id": "e3d0a128-cbdc-4394-a81c-1927cf1d8aaa",
   "metadata": {},
   "outputs": [],
   "source": [
    "arr8 = np.random.randint(1,9,(6))"
   ]
  },
  {
   "cell_type": "code",
   "execution_count": 67,
   "id": "d214850e-1bb9-4e98-8341-34d4d0f9c01b",
   "metadata": {},
   "outputs": [
    {
     "data": {
      "text/plain": [
       "array([4, 2, 4, 5, 3, 5])"
      ]
     },
     "execution_count": 67,
     "metadata": {},
     "output_type": "execute_result"
    }
   ],
   "source": [
    "arr8"
   ]
  },
  {
   "cell_type": "code",
   "execution_count": null,
   "id": "3d76572d-4fb0-46a1-8f5b-1f1551d64f0a",
   "metadata": {},
   "outputs": [],
   "source": [
    "# HMESHA EK 2D ARRAY HI TRANSPOSE HOTA HAI SO AGAR KOI 1D ARRAY HAI TO \n",
    "# USKO 2D BANA LENA HAI WE KNOW WELL THAT SO SEE"
   ]
  },
  {
   "cell_type": "code",
   "execution_count": 70,
   "id": "34d6864f-e197-4cf4-9612-b09482cb1716",
   "metadata": {},
   "outputs": [],
   "source": [
    "arr9 = np.array([arr8])"
   ]
  },
  {
   "cell_type": "code",
   "execution_count": 71,
   "id": "0da6c2a8-d87a-4bb2-afde-faaf3e04042e",
   "metadata": {},
   "outputs": [
    {
     "data": {
      "text/plain": [
       "array([[4, 2, 4, 5, 3, 5]])"
      ]
     },
     "execution_count": 71,
     "metadata": {},
     "output_type": "execute_result"
    }
   ],
   "source": [
    "arr9"
   ]
  },
  {
   "cell_type": "code",
   "execution_count": null,
   "id": "f95fd141-034a-4a69-a8ea-9d043ca623c2",
   "metadata": {},
   "outputs": [],
   "source": [
    "# ab hm isko transpose kr skte hai to get a column or we can say that\n",
    "# we can get 1d array as one column see"
   ]
  },
  {
   "cell_type": "code",
   "execution_count": 72,
   "id": "1eec2b7e-ccbd-4e51-bb57-338586d942fe",
   "metadata": {},
   "outputs": [
    {
     "data": {
      "text/plain": [
       "array([[4],\n",
       "       [2],\n",
       "       [4],\n",
       "       [5],\n",
       "       [3],\n",
       "       [5]])"
      ]
     },
     "execution_count": 72,
     "metadata": {},
     "output_type": "execute_result"
    }
   ],
   "source": [
    "arr9.T"
   ]
  },
  {
   "cell_type": "code",
   "execution_count": null,
   "id": "53d3eda6-abcf-4ccf-904b-23db8fc167bb",
   "metadata": {},
   "outputs": [],
   "source": [
    "\n",
    "\n",
    "#                                 BROADCASTING\n",
    "\n",
    "\n",
    "# JB HM EK ARRAY ME KISI EK ROW YA COLUMN KO ADD KR RHE HOTE HAI AGAR KOI ROW HAI\n",
    "# TO WAH ARRAY ME ROWISE ADD HOGA AND VICE VERSA SEE BELOW "
   ]
  },
  {
   "cell_type": "code",
   "execution_count": 77,
   "id": "0439e986-e68e-4280-90c4-4841f93f4ce0",
   "metadata": {},
   "outputs": [
    {
     "data": {
      "text/plain": [
       "array([[ 7, 11, 15, 11, 17, 12],\n",
       "       [ 8, 16, 12, 17,  9,  5],\n",
       "       [ 8, 13, 13, 18, 17,  1],\n",
       "       [ 9, 14, 13, 11,  4,  2],\n",
       "       [ 5, 15,  8,  1,  1,  9],\n",
       "       [12, 13,  2, 15,  1,  5]])"
      ]
     },
     "execution_count": 77,
     "metadata": {},
     "output_type": "execute_result"
    }
   ],
   "source": [
    "arr10 = np.random.randint(1,20,(6,6))\n",
    "arr10"
   ]
  },
  {
   "cell_type": "code",
   "execution_count": 78,
   "id": "c6431429-d661-4015-adda-0a42d3f2fb2a",
   "metadata": {},
   "outputs": [
    {
     "data": {
      "text/plain": [
       "array([[11, 13, 19, 16, 20, 17],\n",
       "       [12, 18, 16, 22, 12, 10],\n",
       "       [12, 15, 17, 23, 20,  6],\n",
       "       [13, 16, 17, 16,  7,  7],\n",
       "       [ 9, 17, 12,  6,  4, 14],\n",
       "       [16, 15,  6, 20,  4, 10]])"
      ]
     },
     "execution_count": 78,
     "metadata": {},
     "output_type": "execute_result"
    }
   ],
   "source": [
    "arr10 + arr9"
   ]
  },
  {
   "cell_type": "code",
   "execution_count": 79,
   "id": "bfc40650-bb36-4a91-a70d-6042a3fbb9df",
   "metadata": {},
   "outputs": [
    {
     "data": {
      "text/plain": [
       "array([[11, 13, 19, 16, 20, 17],\n",
       "       [12, 18, 16, 22, 12, 10],\n",
       "       [12, 15, 17, 23, 20,  6],\n",
       "       [13, 16, 17, 16,  7,  7],\n",
       "       [ 9, 17, 12,  6,  4, 14],\n",
       "       [16, 15,  6, 20,  4, 10]])"
      ]
     },
     "execution_count": 79,
     "metadata": {},
     "output_type": "execute_result"
    }
   ],
   "source": [
    "arr10 + arr8"
   ]
  },
  {
   "cell_type": "code",
   "execution_count": null,
   "id": "5d35fc9e-949c-4615-a668-12b5e247651e",
   "metadata": {},
   "outputs": [],
   "source": [
    "\n",
    "\n",
    "\n",
    "\n",
    "#                                  NUMPY PART 2\n",
    "\n",
    "\n",
    "\n",
    "\n"
   ]
  },
  {
   "cell_type": "code",
   "execution_count": null,
   "id": "91461a82-83e2-4683-b68a-c5d4f82f3ca6",
   "metadata": {},
   "outputs": [],
   "source": [
    "# how  a transpose work see"
   ]
  },
  {
   "cell_type": "code",
   "execution_count": 4,
   "id": "c7bb662e-93b7-491c-a813-f49e9da03d78",
   "metadata": {},
   "outputs": [],
   "source": [
    "import numpy as np\n",
    "\n",
    "arr11 = np.random.randint(1,11,(3,4))"
   ]
  },
  {
   "cell_type": "code",
   "execution_count": 5,
   "id": "9120a94b-9bb1-4202-b641-662a40107d29",
   "metadata": {},
   "outputs": [
    {
     "data": {
      "text/plain": [
       "array([[ 2,  2, 10,  7],\n",
       "       [ 9,  9,  1,  9],\n",
       "       [ 4,  7,  4,  3]])"
      ]
     },
     "execution_count": 5,
     "metadata": {},
     "output_type": "execute_result"
    }
   ],
   "source": [
    "arr11"
   ]
  },
  {
   "cell_type": "code",
   "execution_count": 6,
   "id": "dbeed71c-4011-4612-a079-ab085f6b2665",
   "metadata": {},
   "outputs": [
    {
     "data": {
      "text/plain": [
       "array([[ 2,  9,  4],\n",
       "       [ 2,  9,  7],\n",
       "       [10,  1,  4],\n",
       "       [ 7,  9,  3]])"
      ]
     },
     "execution_count": 6,
     "metadata": {},
     "output_type": "execute_result"
    }
   ],
   "source": [
    "# so hamare pass yha pr 3x4 ka ek array hai aur hm jaise hi array11.T krenge\n",
    "# to 3x4 ki ulta krdega mtlb 4x3 ka array milega mtlb rowise elements ko uthana hai,\n",
    "# aur columnwise arrange krna hai in such way that ki 4x3 ka array mil jaaye see below \n",
    "\n",
    "arr11.T"
   ]
  },
  {
   "cell_type": "code",
   "execution_count": 9,
   "id": "b28b60ca-2b82-4f2a-9792-68789a4beb11",
   "metadata": {},
   "outputs": [
    {
     "data": {
      "text/plain": [
       "array([ 2,  2, 10,  7,  9,  9,  1,  9,  4,  7,  4,  3])"
      ]
     },
     "execution_count": 9,
     "metadata": {},
     "output_type": "execute_result"
    }
   ],
   "source": [
    "arr11.flatten()"
   ]
  },
  {
   "cell_type": "code",
   "execution_count": 11,
   "id": "4a744f72-fd82-45e8-b948-f84c49dbb06e",
   "metadata": {},
   "outputs": [
    {
     "data": {
      "text/plain": [
       "array([4, 2, 3, 3, 2])"
      ]
     },
     "execution_count": 11,
     "metadata": {},
     "output_type": "execute_result"
    }
   ],
   "source": [
    "# expand_dims() function ------>> yah 1d ko 2d bna dega see\n",
    "arr12 = np.random.randint(1,6,(5))\n",
    "arr12"
   ]
  },
  {
   "cell_type": "code",
   "execution_count": 12,
   "id": "3d9e3693-5227-4f72-8277-26ad47230ac3",
   "metadata": {},
   "outputs": [
    {
     "data": {
      "text/plain": [
       "numpy.ndarray"
      ]
     },
     "execution_count": 12,
     "metadata": {},
     "output_type": "execute_result"
    }
   ],
   "source": [
    "type(arr12)"
   ]
  },
  {
   "cell_type": "code",
   "execution_count": 14,
   "id": "0b2c51ba-71c7-4ddd-96c4-ca6031f1c3e8",
   "metadata": {},
   "outputs": [
    {
     "data": {
      "text/plain": [
       "array([[4],\n",
       "       [2],\n",
       "       [3],\n",
       "       [3],\n",
       "       [2]])"
      ]
     },
     "execution_count": 14,
     "metadata": {},
     "output_type": "execute_result"
    }
   ],
   "source": [
    "np.expand_dims(arr12,axis=1)"
   ]
  },
  {
   "cell_type": "code",
   "execution_count": 16,
   "id": "3150e3fe-ecbf-433c-aa20-df7536ca15d7",
   "metadata": {},
   "outputs": [
    {
     "data": {
      "text/plain": [
       "array([[4, 0, 0, 0, 0],\n",
       "       [0, 2, 0, 0, 0],\n",
       "       [0, 0, 3, 0, 0],\n",
       "       [0, 0, 0, 3, 0],\n",
       "       [0, 0, 0, 0, 2]])"
      ]
     },
     "execution_count": 16,
     "metadata": {},
     "output_type": "execute_result"
    }
   ],
   "source": [
    "np.diag(arr12)"
   ]
  },
  {
   "cell_type": "code",
   "execution_count": null,
   "id": "3ab89683-c092-48a3-9edf-c6cf355e2de4",
   "metadata": {},
   "outputs": [],
   "source": [
    "#                           BINARY OPERATION\n",
    "\n",
    "\n",
    "# for addition ,subtraction , normal multiplication and division both array should be same shape and size\n",
    "# and trhese all happen according corresponding indices but for matrix multiplication we use @ \n",
    "# and column of first array should equal to second array row"
   ]
  },
  {
   "cell_type": "code",
   "execution_count": 20,
   "id": "c8aa382c-606e-4c1a-a9f6-80dea0ec0fb9",
   "metadata": {},
   "outputs": [
    {
     "data": {
      "text/plain": [
       "array([[2, 6, 1, 5],\n",
       "       [2, 4, 6, 4],\n",
       "       [2, 1, 6, 5]])"
      ]
     },
     "execution_count": 20,
     "metadata": {},
     "output_type": "execute_result"
    }
   ],
   "source": [
    "arr13 = np.random.randint(1,9,(3,4))\n",
    "arr13"
   ]
  },
  {
   "cell_type": "code",
   "execution_count": 25,
   "id": "b7e4221d-fc42-4486-85f4-0834cfc1613c",
   "metadata": {},
   "outputs": [
    {
     "data": {
      "text/plain": [
       "array([[5, 7, 3, 5],\n",
       "       [8, 3, 2, 6],\n",
       "       [8, 3, 3, 7]])"
      ]
     },
     "execution_count": 25,
     "metadata": {},
     "output_type": "execute_result"
    }
   ],
   "source": [
    "arr14 = np.random.randint(1,9,(3,4))\n",
    "arr14"
   ]
  },
  {
   "cell_type": "code",
   "execution_count": 26,
   "id": "494ae965-f9d5-49f4-8b1f-440e057424c2",
   "metadata": {},
   "outputs": [
    {
     "data": {
      "text/plain": [
       "array([[ 7, 13,  4, 10],\n",
       "       [10,  7,  8, 10],\n",
       "       [10,  4,  9, 12]])"
      ]
     },
     "execution_count": 26,
     "metadata": {},
     "output_type": "execute_result"
    }
   ],
   "source": [
    "arr13 + arr14"
   ]
  },
  {
   "cell_type": "code",
   "execution_count": 27,
   "id": "681b00ba-6e0c-46f4-84a1-03a93db7e119",
   "metadata": {},
   "outputs": [
    {
     "data": {
      "text/plain": [
       "array([[-3, -1, -2,  0],\n",
       "       [-6,  1,  4, -2],\n",
       "       [-6, -2,  3, -2]])"
      ]
     },
     "execution_count": 27,
     "metadata": {},
     "output_type": "execute_result"
    }
   ],
   "source": [
    "arr13- arr14"
   ]
  },
  {
   "cell_type": "code",
   "execution_count": 28,
   "id": "7a4408a2-ae27-4a02-b7f3-caa08b8c5474",
   "metadata": {},
   "outputs": [
    {
     "data": {
      "text/plain": [
       "array([[10, 42,  3, 25],\n",
       "       [16, 12, 12, 24],\n",
       "       [16,  3, 18, 35]])"
      ]
     },
     "execution_count": 28,
     "metadata": {},
     "output_type": "execute_result"
    }
   ],
   "source": [
    "arr13*arr14"
   ]
  },
  {
   "cell_type": "code",
   "execution_count": 29,
   "id": "49194ac9-dad6-47cb-9711-940d51782eb4",
   "metadata": {},
   "outputs": [
    {
     "data": {
      "text/plain": [
       "array([[0.4       , 0.85714286, 0.33333333, 1.        ],\n",
       "       [0.25      , 1.33333333, 3.        , 0.66666667],\n",
       "       [0.25      , 0.33333333, 2.        , 0.71428571]])"
      ]
     },
     "execution_count": 29,
     "metadata": {},
     "output_type": "execute_result"
    }
   ],
   "source": [
    "arr13/arr14"
   ]
  },
  {
   "cell_type": "code",
   "execution_count": 30,
   "id": "04c1912c-fa6b-4b72-9409-2001f4f03792",
   "metadata": {},
   "outputs": [
    {
     "data": {
      "text/plain": [
       "array([[2, 6, 1, 0],\n",
       "       [2, 1, 0, 4],\n",
       "       [2, 1, 0, 5]])"
      ]
     },
     "execution_count": 30,
     "metadata": {},
     "output_type": "execute_result"
    }
   ],
   "source": [
    "arr13%arr14"
   ]
  },
  {
   "cell_type": "code",
   "execution_count": 31,
   "id": "bfb9a379-bece-4a42-aa86-b2102a2aa70a",
   "metadata": {},
   "outputs": [
    {
     "data": {
      "text/plain": [
       "array([[    32, 279936,      1,   3125],\n",
       "       [   256,     64,     36,   4096],\n",
       "       [   256,      1,    216,  78125]])"
      ]
     },
     "execution_count": 31,
     "metadata": {},
     "output_type": "execute_result"
    }
   ],
   "source": [
    "arr13**arr14"
   ]
  },
  {
   "cell_type": "code",
   "execution_count": 32,
   "id": "266ad3ec-afcb-48c3-a251-2fbae6b0be33",
   "metadata": {},
   "outputs": [
    {
     "ename": "ValueError",
     "evalue": "matmul: Input operand 1 has a mismatch in its core dimension 0, with gufunc signature (n?,k),(k,m?)->(n?,m?) (size 3 is different from 4)",
     "output_type": "error",
     "traceback": [
      "\u001b[0;31m---------------------------------------------------------------------------\u001b[0m",
      "\u001b[0;31mValueError\u001b[0m                                Traceback (most recent call last)",
      "Cell \u001b[0;32mIn[32], line 1\u001b[0m\n\u001b[0;32m----> 1\u001b[0m \u001b[43marr13\u001b[49m\u001b[43m \u001b[49m\u001b[38;5;241;43m@\u001b[39;49m\u001b[43m \u001b[49m\u001b[43marr14\u001b[49m\n",
      "\u001b[0;31mValueError\u001b[0m: matmul: Input operand 1 has a mismatch in its core dimension 0, with gufunc signature (n?,k),(k,m?)->(n?,m?) (size 3 is different from 4)"
     ]
    }
   ],
   "source": [
    "arr13 @ arr14"
   ]
  },
  {
   "cell_type": "code",
   "execution_count": 34,
   "id": "277c9d85-62df-43a5-8350-fb6c12c48db1",
   "metadata": {},
   "outputs": [
    {
     "data": {
      "text/plain": [
       "array(['creator', 'sanit'], dtype='<U7')"
      ]
     },
     "execution_count": 34,
     "metadata": {},
     "output_type": "execute_result"
    }
   ],
   "source": [
    "\n",
    "\n",
    "\n",
    "\n",
    "#                              string function\n",
    "\n",
    "\n",
    "\n",
    "\n",
    "# tmlb agr hm kisi string data waale aaray pr operation chahte hai to call char see below\n",
    "\n",
    "arr15 = np.array(['creator','sanit'])\n",
    "arr15"
   ]
  },
  {
   "cell_type": "code",
   "execution_count": 36,
   "id": "f4f4017a-685a-48f3-b00e-410db266b88f",
   "metadata": {},
   "outputs": [
    {
     "data": {
      "text/plain": [
       "array(['CREATOR', 'SANIT'], dtype='<U7')"
      ]
     },
     "execution_count": 36,
     "metadata": {},
     "output_type": "execute_result"
    }
   ],
   "source": [
    "np.char.upper(arr15)"
   ]
  },
  {
   "cell_type": "code",
   "execution_count": 37,
   "id": "20dfcb06-e62e-462f-b67f-babae91d7142",
   "metadata": {},
   "outputs": [
    {
     "data": {
      "text/plain": [
       "array(['creator', 'sanit'], dtype='<U7')"
      ]
     },
     "execution_count": 37,
     "metadata": {},
     "output_type": "execute_result"
    }
   ],
   "source": [
    "np.char.lower(arr15)"
   ]
  },
  {
   "cell_type": "code",
   "execution_count": 38,
   "id": "02de6a63-b655-441f-86ab-1c3f09438b50",
   "metadata": {},
   "outputs": [
    {
     "data": {
      "text/plain": [
       "array(['Creator', 'Sanit'], dtype='<U7')"
      ]
     },
     "execution_count": 38,
     "metadata": {},
     "output_type": "execute_result"
    }
   ],
   "source": [
    "np.char.title(arr15)"
   ]
  },
  {
   "cell_type": "code",
   "execution_count": null,
   "id": "866a6659-91c6-4898-b868-33f540d2d325",
   "metadata": {},
   "outputs": [],
   "source": [
    "\n",
    "\n",
    "#                                trignometric function\n",
    "\n"
   ]
  },
  {
   "cell_type": "code",
   "execution_count": 39,
   "id": "192226f2-e65d-4676-8194-91cc2aac6d2e",
   "metadata": {},
   "outputs": [
    {
     "data": {
      "text/plain": [
       "array([[6, 3, 1, 2, 7],\n",
       "       [6, 2, 5, 3, 5],\n",
       "       [2, 5, 7, 4, 2],\n",
       "       [5, 8, 7, 7, 3]])"
      ]
     },
     "execution_count": 39,
     "metadata": {},
     "output_type": "execute_result"
    }
   ],
   "source": [
    "arr16 = np.random.randint(1,9,(4,5))\n",
    "arr16"
   ]
  },
  {
   "cell_type": "code",
   "execution_count": 40,
   "id": "9a57f919-ed02-464d-8857-1ec73879e18e",
   "metadata": {},
   "outputs": [
    {
     "data": {
      "text/plain": [
       "array([[-0.2794155 ,  0.14112001,  0.84147098,  0.90929743,  0.6569866 ],\n",
       "       [-0.2794155 ,  0.90929743, -0.95892427,  0.14112001, -0.95892427],\n",
       "       [ 0.90929743, -0.95892427,  0.6569866 , -0.7568025 ,  0.90929743],\n",
       "       [-0.95892427,  0.98935825,  0.6569866 ,  0.6569866 ,  0.14112001]])"
      ]
     },
     "execution_count": 40,
     "metadata": {},
     "output_type": "execute_result"
    }
   ],
   "source": [
    "np.sin(arr16)"
   ]
  },
  {
   "cell_type": "code",
   "execution_count": 41,
   "id": "8844bd19-44ae-4cfa-a278-4d709b6d0272",
   "metadata": {},
   "outputs": [
    {
     "data": {
      "text/plain": [
       "array([[-0.29100619, -0.14254654,  1.55740772, -2.18503986,  0.87144798],\n",
       "       [-0.29100619, -2.18503986, -3.38051501, -0.14254654, -3.38051501],\n",
       "       [-2.18503986, -3.38051501,  0.87144798,  1.15782128, -2.18503986],\n",
       "       [-3.38051501, -6.79971146,  0.87144798,  0.87144798, -0.14254654]])"
      ]
     },
     "execution_count": 41,
     "metadata": {},
     "output_type": "execute_result"
    }
   ],
   "source": [
    "np.tan(arr16)"
   ]
  },
  {
   "cell_type": "code",
   "execution_count": 42,
   "id": "dab00f08-a6bc-41f8-b27a-0cad0f3acdb2",
   "metadata": {},
   "outputs": [
    {
     "data": {
      "text/plain": [
       "array([[36,  9,  1,  4, 49],\n",
       "       [36,  4, 25,  9, 25],\n",
       "       [ 4, 25, 49, 16,  4],\n",
       "       [25, 64, 49, 49,  9]])"
      ]
     },
     "execution_count": 42,
     "metadata": {},
     "output_type": "execute_result"
    }
   ],
   "source": [
    "np.power(arr16,2)"
   ]
  },
  {
   "cell_type": "code",
   "execution_count": 43,
   "id": "1c531682-1bba-4eaf-a16e-b02727d00c9f",
   "metadata": {},
   "outputs": [
    {
     "data": {
      "text/plain": [
       "array([[4.03428793e+02, 2.00855369e+01, 2.71828183e+00, 7.38905610e+00,\n",
       "        1.09663316e+03],\n",
       "       [4.03428793e+02, 7.38905610e+00, 1.48413159e+02, 2.00855369e+01,\n",
       "        1.48413159e+02],\n",
       "       [7.38905610e+00, 1.48413159e+02, 1.09663316e+03, 5.45981500e+01,\n",
       "        7.38905610e+00],\n",
       "       [1.48413159e+02, 2.98095799e+03, 1.09663316e+03, 1.09663316e+03,\n",
       "        2.00855369e+01]])"
      ]
     },
     "execution_count": 43,
     "metadata": {},
     "output_type": "execute_result"
    }
   ],
   "source": [
    "np.exp(arr16)"
   ]
  },
  {
   "cell_type": "code",
   "execution_count": 44,
   "id": "49d2f01c-fca5-40ea-bcc5-1b4ff29f5585",
   "metadata": {},
   "outputs": [
    {
     "data": {
      "text/plain": [
       "array([[1.79175947, 1.09861229, 0.        , 0.69314718, 1.94591015],\n",
       "       [1.79175947, 0.69314718, 1.60943791, 1.09861229, 1.60943791],\n",
       "       [0.69314718, 1.60943791, 1.94591015, 1.38629436, 0.69314718],\n",
       "       [1.60943791, 2.07944154, 1.94591015, 1.94591015, 1.09861229]])"
      ]
     },
     "execution_count": 44,
     "metadata": {},
     "output_type": "execute_result"
    }
   ],
   "source": [
    "np.log(arr16)"
   ]
  },
  {
   "cell_type": "code",
   "execution_count": 45,
   "id": "8b4f6182-cad7-4b43-afa0-54da6e6a4428",
   "metadata": {},
   "outputs": [
    {
     "data": {
      "text/plain": [
       "4.5"
      ]
     },
     "execution_count": 45,
     "metadata": {},
     "output_type": "execute_result"
    }
   ],
   "source": [
    "np.mean(arr16)"
   ]
  },
  {
   "cell_type": "code",
   "execution_count": 46,
   "id": "6db9627d-52ea-4235-a96d-d53cdf748f0e",
   "metadata": {},
   "outputs": [
    {
     "data": {
      "text/plain": [
       "5.0"
      ]
     },
     "execution_count": 46,
     "metadata": {},
     "output_type": "execute_result"
    }
   ],
   "source": [
    "np.median(arr16)"
   ]
  },
  {
   "cell_type": "code",
   "execution_count": 47,
   "id": "819b43cc-52b2-4560-8701-235fa7e7fe4a",
   "metadata": {},
   "outputs": [
    {
     "data": {
      "text/plain": [
       "1"
      ]
     },
     "execution_count": 47,
     "metadata": {},
     "output_type": "execute_result"
    }
   ],
   "source": [
    "np.min(arr16)"
   ]
  },
  {
   "cell_type": "code",
   "execution_count": 48,
   "id": "5e93e623-36ca-4fd9-a06b-c5bf2ac0f479",
   "metadata": {},
   "outputs": [
    {
     "data": {
      "text/plain": [
       "8"
      ]
     },
     "execution_count": 48,
     "metadata": {},
     "output_type": "execute_result"
    }
   ],
   "source": [
    "np.max(arr16)"
   ]
  },
  {
   "cell_type": "code",
   "execution_count": null,
   "id": "93d1946c-52ba-4f98-bdd9-65cc536d7f6c",
   "metadata": {},
   "outputs": [],
   "source": [
    "#                         <<------------NOTE----------->>\n",
    "\n",
    "\n",
    "\n",
    "# SO OVERALL FINALLY WE CAN SAY THAT NUMPY SI BASICALLY FOR COMPUTING OF NUMERICAL DATA,\n",
    "# SO JUST SEARCH THE  FUNCTION JISKO APPLY KRNA HAI \n",
    "# BKOZ HAR TYPE KE FUNCTION AVAILABLE HAI IN NUMPY FOR DATA MANIPULATION OR COMPUTING"
   ]
  },
  {
   "cell_type": "code",
   "execution_count": null,
   "id": "78a58259-db9e-4653-bfd1-649130ff3213",
   "metadata": {},
   "outputs": [],
   "source": [
    "\n",
    "\n",
    "\n",
    "\n",
    "#                              SORTING , SEARCHING AND  COUNTING FUNCTION\n",
    "\n",
    "\n"
   ]
  },
  {
   "cell_type": "code",
   "execution_count": null,
   "id": "a87d474a-5871-47ef-9599-c81ab0675934",
   "metadata": {},
   "outputs": [],
   "source": [
    "# Sorting, searching, and counting are three important functions in computer science and data analysis. Here's a brief explanation of each:\n",
    "\n",
    "# 1.Sorting: Sorting refers to arranging a collection of items or data in a specific order, \n",
    "# such as ascending or descending order. The goal of sorting is to make it easier to search and retrieve information from the data. \n",
    "# There are various algorithms for sorting data, such as bubble sort, quick sort, and merge sort.\n",
    "\n",
    "# 2.Searching: Searching refers to looking for a specific item or data within a collection or dataset.\n",
    "# The goal of searching is to find the desired item as efficiently as possible. There are various algorithms for searching data,\n",
    "# such as linear search, binary search, and interpolation search.\n",
    "\n",
    "# 3.Counting: Counting refers to determining the number of occurrences of a specific item or data within a collection or dataset.\n",
    "# Counting is useful in many applications, such as in analyzing data frequency, detecting anomalies or patterns, and identifying trends.\n",
    "\n",
    "# These three functions are often used together in data analysis and manipulation tasks. \n",
    "# For example, we might first sort a dataset, then search for specific items within it, and finally count the occurrences of those items."
   ]
  },
  {
   "cell_type": "code",
   "execution_count": 4,
   "id": "0e1a4365-a218-4ea3-baec-bd631ec52363",
   "metadata": {},
   "outputs": [],
   "source": [
    "import numpy as np\n",
    "\n",
    "array20 = np.array([1,6,3,9,5,8,7])"
   ]
  },
  {
   "cell_type": "code",
   "execution_count": 5,
   "id": "0e695dea-4415-4219-87b9-e3c564d56c60",
   "metadata": {},
   "outputs": [
    {
     "data": {
      "text/plain": [
       "array([1, 6, 3, 9, 5, 8, 7])"
      ]
     },
     "execution_count": 5,
     "metadata": {},
     "output_type": "execute_result"
    }
   ],
   "source": [
    "array20"
   ]
  },
  {
   "cell_type": "code",
   "execution_count": 6,
   "id": "c19540b6-5364-451e-8cb4-c75730a9edad",
   "metadata": {},
   "outputs": [
    {
     "data": {
      "text/plain": [
       "array([1, 3, 5, 6, 7, 8, 9])"
      ]
     },
     "execution_count": 6,
     "metadata": {},
     "output_type": "execute_result"
    }
   ],
   "source": [
    "# yah function data ko ascending ya descending order me arrange krdega see\n",
    "np.sort(array20)"
   ]
  },
  {
   "cell_type": "code",
   "execution_count": 9,
   "id": "b7b6b2a3-21c2-410a-a414-61ee8a5cf6f9",
   "metadata": {},
   "outputs": [],
   "source": [
    "# yah function yah batata hai ki ek sort array me koi value kha jaane waali hai see so basically it give index of that value\n",
    "a = np.searchsorted(array20,2)"
   ]
  },
  {
   "cell_type": "code",
   "execution_count": 10,
   "id": "333be368-1795-4654-b65a-6c83f0451417",
   "metadata": {},
   "outputs": [
    {
     "data": {
      "text/plain": [
       "1"
      ]
     },
     "execution_count": 10,
     "metadata": {},
     "output_type": "execute_result"
    }
   ],
   "source": [
    "a"
   ]
  },
  {
   "cell_type": "code",
   "execution_count": 12,
   "id": "8735ad21-3376-4514-a27b-508271436311",
   "metadata": {},
   "outputs": [
    {
     "data": {
      "text/plain": [
       "(array([3, 5, 6]),)"
      ]
     },
     "execution_count": 12,
     "metadata": {},
     "output_type": "execute_result"
    }
   ],
   "source": [
    "# yah function condition ke base pr batayega ki values kis kis indices pr available hai\n",
    "np.where(array20>6)"
   ]
  },
  {
   "cell_type": "code",
   "execution_count": 14,
   "id": "8203c358-6e29-4f4d-ac68-b2d1c382e489",
   "metadata": {},
   "outputs": [
    {
     "data": {
      "text/plain": [
       "array([6, 9, 5, 8, 7])"
      ]
     },
     "execution_count": 14,
     "metadata": {},
     "output_type": "execute_result"
    }
   ],
   "source": [
    "np.extract(array20>4,array20)"
   ]
  },
  {
   "cell_type": "code",
   "execution_count": null,
   "id": "2d9b710e-71a8-4842-a00e-778533356d67",
   "metadata": {},
   "outputs": [],
   "source": [
    "# we can also produce matrix instead of array jo ki khud ek array hi hota hai see \n",
    "\n",
    "import numpy.matlib as np"
   ]
  },
  {
   "cell_type": "code",
   "execution_count": 15,
   "id": "f1fe1171-9b2a-4758-ac1a-f08b6999162e",
   "metadata": {},
   "outputs": [
    {
     "data": {
      "text/plain": [
       "matrix([[1, 2, 3, 4, 5]])"
      ]
     },
     "execution_count": 15,
     "metadata": {},
     "output_type": "execute_result"
    }
   ],
   "source": [
    "np.matrix([1,2,3,4,5])"
   ]
  },
  {
   "cell_type": "code",
   "execution_count": null,
   "id": "4590bf2e-fcdb-4a77-83b0-3df937bf7a24",
   "metadata": {},
   "outputs": [],
   "source": []
  }
 ],
 "metadata": {
  "kernelspec": {
   "display_name": "Python 3 (ipykernel)",
   "language": "python",
   "name": "python3"
  },
  "language_info": {
   "codemirror_mode": {
    "name": "ipython",
    "version": 3
   },
   "file_extension": ".py",
   "mimetype": "text/x-python",
   "name": "python",
   "nbconvert_exporter": "python",
   "pygments_lexer": "ipython3",
   "version": "3.10.8"
  }
 },
 "nbformat": 4,
 "nbformat_minor": 5
}
